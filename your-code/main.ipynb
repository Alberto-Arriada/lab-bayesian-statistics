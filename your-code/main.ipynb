{
 "cells": [
  {
   "cell_type": "code",
   "execution_count": 33,
   "outputs": [],
   "source": [],
   "metadata": {
    "collapsed": false,
    "pycharm": {
     "name": "#%%\n"
    }
   }
  },
  {
   "cell_type": "markdown",
   "source": [
    "# Intro to Bayesian Statistics Lab\n",
    "\n",
    "Complete the following set of exercises to solidify your knowledge of Bayesian statistics and Bayesian data analysis."
   ],
   "metadata": {
    "collapsed": false
   }
  },
  {
   "cell_type": "code",
   "execution_count": 34,
   "outputs": [],
   "source": [
    "import pandas as pd\n",
    "import numpy as np\n",
    "import matplotlib.pyplot as plt"
   ],
   "metadata": {
    "collapsed": false,
    "pycharm": {
     "name": "#%%\n"
    }
   }
  },
  {
   "cell_type": "markdown",
   "source": [
    "## 1. Cookie Problem\n",
    "\n",
    "Suppose we have two bowls of cookies. Bowl 1 contains 30 vanilla cookies and 10 chocolate cookies. Bowl 2 contains 20 of each. You randomly pick one cookie out of one of the bowls, and it is vanilla. Use Bayes Theorem to calculate the probability that the vanilla cookie you picked came from Bowl 1?"
   ],
   "metadata": {
    "collapsed": false
   }
  },
  {
   "cell_type": "code",
   "execution_count": 35,
   "outputs": [],
   "source": [
    "A1=1/2 #probabilidad tazón 1\n",
    "B1=30/40 #probabilidad tazón 1 vainilla\n",
    "B2=10/40 #probabilidad tazón 1 chocolate\n",
    "A2=1/2 #probabilidad tazón 2\n",
    "B3=20/40 #probabilidad tazón 2 vainilla\n",
    "B4=20/40 #probabilidad tazón 2 chocolate\n",
    "COOKIES_PRIORS=[A1,A2]\n",
    "COOKIES_LIKE_VAINILLA=[B1,B3]\n",
    "COOKIES_LIKE_CHOCOLATE=[B2,B4]\n",
    "\n",
    "P_vainilla_M=(A1*B1)/((A1*B1)+(A2*B3)) #CÁLCULO MANUAL\n",
    "\n",
    "def bayes_rule(priors, likelihoods):\n",
    "    marg = sum(np.multiply(priors, likelihoods))\n",
    "    post = np.divide(np.multiply(priors, likelihoods), marg)\n",
    "    return post\n",
    "\n",
    "P_vainilla_F=bayes_rule(COOKIES_PRIORS,COOKIES_LIKE_VAINILLA) #CÁLCULO CON FUNCIÓN"
   ],
   "metadata": {
    "collapsed": false,
    "pycharm": {
     "name": "#%%\n"
    }
   }
  },
  {
   "cell_type": "markdown",
   "source": [
    "What is the probability that it came from Bowl 2?"
   ],
   "metadata": {
    "collapsed": false,
    "pycharm": {
     "name": "#%% md\n"
    }
   }
  },
  {
   "cell_type": "code",
   "execution_count": 36,
   "outputs": [
    {
     "name": "stdout",
     "output_type": "stream",
     "text": [
      "The probability that the vanilla cookie came from bowl 2 is 40.00%\n"
     ]
    }
   ],
   "source": [
    "print(\"The probability that the vanilla cookie came from bowl 2 is {0:.2f}%\".format(P_vainilla_F[1]*100))\n",
    "#print(P_vainilla_M)\n"
   ],
   "metadata": {
    "collapsed": false,
    "pycharm": {
     "name": "#%%\n"
    }
   }
  },
  {
   "cell_type": "markdown",
   "source": [
    "What if the cookie you had picked was chocolate? What are the probabilities that the chocolate cookie came from Bowl 1 and Bowl 2 respectively?"
   ],
   "metadata": {
    "collapsed": false
   }
  },
  {
   "cell_type": "code",
   "execution_count": 37,
   "outputs": [
    {
     "name": "stdout",
     "output_type": "stream",
     "text": [
      "The probability that a chocolate cookie came from bowl 1 is 33.33%\n",
      "The probability that a chocolate cookie came from bowl 2 is 66.67%\n"
     ]
    }
   ],
   "source": [
    "P_chocolate_F=bayes_rule(COOKIES_PRIORS,COOKIES_LIKE_CHOCOLATE) #CÁLCULO CON FUNCIÓN\n",
    "print(\"The probability that a chocolate cookie came from bowl 1 is {0:.2f}%\".format(P_chocolate_F[0]*100))\n",
    "print(\"The probability that a chocolate cookie came from bowl 2 is {0:.2f}%\".format(P_chocolate_F[1]*100))\n"
   ],
   "metadata": {
    "collapsed": false,
    "pycharm": {
     "name": "#%%\n"
    }
   }
  },
  {
   "cell_type": "markdown",
   "source": [
    "## 2. Candy Problem\n",
    "\n",
    "Suppose you have two bags of candies:\n",
    "\n",
    "- In Bag 1, the mix of colors is:\n",
    "    - Brown - 30%\n",
    "    - Yellow - 20%\n",
    "    - Red - 20%\n",
    "    - Green - 10%\n",
    "    - Orange - 10%\n",
    "    - Tan - 10%\n",
    "\n",
    "- In Bag 2, the mix of colors is:\n",
    "    - Blue - 24%\n",
    "    - Green - 20%\n",
    "    - Orange - 16%\n",
    "    - Yellow - 14%\n",
    "    - Red - 13%\n",
    "    - Brown - 13%\n",
    "\n",
    "Not knowing which bag is which, you randomly draw one candy from each bag. One is yellow and one is green. What is the probability that the yellow one came from the Bag 1?\n",
    "\n",
    "*Hint: For the likelihoods, you will need to multiply the probabilities of drawing yellow from one bag and green from the other bag and vice versa.*"
   ],
   "metadata": {
    "collapsed": false
   }
  },
  {
   "cell_type": "code",
   "execution_count": 38,
   "outputs": [
    {
     "name": "stdout",
     "output_type": "stream",
     "text": [
      "The probability that a yellow candy came from bag 1 is 58.82%\n"
     ]
    }
   ],
   "source": [
    "A1_A2=[1/2,1/2]\n",
    "A1_BROWN=.30\n",
    "A1_YELLOW=.2\n",
    "A1_RED=.2\n",
    "A1_GREEN=.1\n",
    "A1_ORANGE=.1\n",
    "A1_TAN=.10\n",
    "A2_BLUE=.24\n",
    "A2_GREEN=.20\n",
    "A2_ORANGE=.16\n",
    "A2_YELLOW=.14\n",
    "A2_RED=.13\n",
    "A2_BROWN=.13\n",
    "\n",
    "P_YELLOW_1=bayes_rule(A1_A2,[A1_YELLOW,A2_YELLOW])\n",
    "print(\"The probability that a yellow candy came from bag 1 is {0:.2f}%\".format(P_YELLOW_1[0]*100))\n",
    "#print(P_YELLOW_1)"
   ],
   "metadata": {
    "collapsed": false,
    "pycharm": {
     "name": "#%%\n"
    }
   }
  },
  {
   "cell_type": "markdown",
   "source": [
    "What is the probability that the yellow candy came from Bag 2?"
   ],
   "metadata": {
    "collapsed": false
   }
  },
  {
   "cell_type": "code",
   "execution_count": 39,
   "outputs": [
    {
     "name": "stdout",
     "output_type": "stream",
     "text": [
      "The probability that a yellow candy came from bag 2 is 41.18%\n"
     ]
    }
   ],
   "source": [
    "print(\"The probability that a yellow candy came from bag 2 is {0:.2f}%\".format(P_YELLOW_1[1]*100))\n"
   ],
   "metadata": {
    "collapsed": false,
    "pycharm": {
     "name": "#%%\n"
    }
   }
  },
  {
   "cell_type": "markdown",
   "source": [
    "What are the probabilities that the green one came from Bag 1 and Bag 2 respectively?"
   ],
   "metadata": {
    "collapsed": false
   }
  },
  {
   "cell_type": "code",
   "execution_count": 40,
   "outputs": [
    {
     "name": "stdout",
     "output_type": "stream",
     "text": [
      "The probability that a green candy came from bag 1 is 33.33%\n",
      "The probability that a green candy came from bag 2 is 66.67%\n"
     ]
    }
   ],
   "source": [
    "P_GREEN_1=bayes_rule(A1_A2,[A1_GREEN,A2_GREEN])\n",
    "print(\"The probability that a green candy came from bag 1 is {0:.2f}%\".format(P_GREEN_1[0]*100))\n",
    "print(\"The probability that a green candy came from bag 2 is {0:.2f}%\".format(P_GREEN_1[1]*100))"
   ],
   "metadata": {
    "collapsed": false,
    "pycharm": {
     "name": "#%%\n"
    }
   }
  },
  {
   "cell_type": "markdown",
   "source": [
    "## 3. Monty Hall Problem\n",
    "\n",
    "Suppose you are a contestant on the popular game show *Let's Make a Deal*. The host of the show (Monty Hall) presents you with three doors - Door A, Door B, and Door C. He tells you that there is a sports car behind one of them and if you choose the correct one, you win the car!\n",
    "\n",
    "You select Door A, but then Monty makes things a little more interesting. He opens Door B to reveal that there is no sports car behind it and asks you if you would like to stick with your choice of Door A or switch your choice to Door C. Given this new information, what are the probabilities of you winning the car if you stick with Door A versus if you switch to Door C?"
   ],
   "metadata": {
    "collapsed": false
   }
  },
  {
   "cell_type": "code",
   "execution_count": 41,
   "outputs": [
    {
     "name": "stdout",
     "output_type": "stream",
     "text": [
      "The probability that I win if I choose door A is 50.00%\n",
      "The probability that I win if I choose door C is 50.00%\n"
     ]
    }
   ],
   "source": [
    "A1=1/3 #Door A\n",
    "A2=1/3 #Door B\n",
    "A3=1/3 #Door C\n",
    "\n",
    "A1_WIN=1/2\n",
    "A1_LOSE=1/2\n",
    "A3_WIN=1/2\n",
    "A3_LOSE=1/2\n",
    "\n",
    "P_WIN=bayes_rule([A1,A3],[A1_WIN,A3_WIN])\n",
    "\n",
    "print(\"The probability that I win if I choose door A is {0:.2f}%\".format(P_WIN[0]*100))\n",
    "print(\"The probability that I win if I choose door C is {0:.2f}%\".format(P_WIN[1]*100))"
   ],
   "metadata": {
    "collapsed": false,
    "pycharm": {
     "name": "#%%\n"
    }
   }
  },
  {
   "cell_type": "markdown",
   "source": [
    "## 4. Bayesian Analysis\n",
    "\n",
    "Suppose you work for a landscaping company, and they want to advertise their service online. They create an ad and sit back waiting for the money to roll in. On the first day, the ad sends 100 visitors to the site and 14 of them sign up for landscaping services. Create a generative model to come up with the posterior distribution and produce a visualization of what the posterior distribution would look like given the observed data."
   ],
   "metadata": {
    "collapsed": false
   }
  },
  {
   "cell_type": "code",
   "execution_count": 48,
   "outputs": [
    {
     "data": {
      "text/plain": "<matplotlib.axes._subplots.AxesSubplot at 0x15409448>"
     },
     "execution_count": 48,
     "metadata": {},
     "output_type": "execute_result"
    },
    {
     "data": {
      "text/plain": "<Figure size 432x288 with 1 Axes>",
      "image/png": "[encoded data removed]"
     },
     "metadata": {
      "needs_background": "light"
     },
     "output_type": "display_data"
    }
   ],
   "source": [
    "n_draws = 100000\n",
    "prior = pd.Series(np.random.uniform(0, 1, size=n_draws))\n",
    "#prior.hist()\n",
    "\n",
    "observed = 14\n",
    "\n",
    "def generative_model(param):\n",
    "    result = np.random.binomial(100, param)\n",
    "    return result\n",
    "\n",
    "sim_data = list()\n",
    "\n",
    "for p in prior:\n",
    "    sim_data.append(generative_model(p))\n",
    "\n",
    "posterior = prior[list(map(lambda x: x == observed, sim_data))]\n",
    "posterior.hist()"
   ],
   "metadata": {
    "collapsed": false,
    "pycharm": {
     "name": "#%%\n"
    }
   }
  },
  {
   "cell_type": "markdown",
   "source": [
    "Produce a set of descriptive statistics for the posterior distribution."
   ],
   "metadata": {
    "collapsed": false
   }
  },
  {
   "cell_type": "code",
   "execution_count": 49,
   "outputs": [
    {
     "data": {
      "text/plain": "count    935.000000\nmean       0.150352\nstd        0.033930\nmin        0.057805\n25%        0.127781\n50%        0.149238\n75%        0.170850\nmax        0.270773\ndtype: float64"
     },
     "execution_count": 49,
     "metadata": {},
     "output_type": "execute_result"
    }
   ],
   "source": [
    "posterior.describe()\n"
   ],
   "metadata": {
    "collapsed": false,
    "pycharm": {
     "name": "#%%\n"
    }
   }
  },
  {
   "cell_type": "markdown",
   "source": [
    "What is the 90% credible interval range?"
   ],
   "metadata": {
    "collapsed": false
   }
  },
  {
   "cell_type": "code",
   "execution_count": 50,
   "outputs": [
    {
     "name": "stdout",
     "output_type": "stream",
     "text": [
      "0.08761987430814776 | 0.2213894929469315\n"
     ]
    }
   ],
   "source": [
    "print(posterior.quantile(.025), '|', posterior.quantile(.975))"
   ],
   "metadata": {
    "collapsed": false,
    "pycharm": {
     "name": "#%%\n"
    }
   }
  },
  {
   "cell_type": "markdown",
   "source": [
    "What is the Maximum Likelihood Estimate?"
   ],
   "metadata": {
    "collapsed": false
   }
  },
  {
   "cell_type": "code",
   "execution_count": 51,
   "outputs": [
    {
     "name": "stdout",
     "output_type": "stream",
     "text": [
      "Maximum Likelihood Estimate:  0.15 | 0.1358288770053476\n"
     ]
    }
   ],
   "source": [
    "rounded = posterior.round(2)\n",
    "mode = rounded.mode()[0]\n",
    "probability = list(rounded).count(mode)/len(rounded)\n",
    "print('Maximum Likelihood Estimate: ', mode, '|',probability)\n",
    "\n"
   ],
   "metadata": {
    "collapsed": false,
    "pycharm": {
     "name": "#%%\n"
    }
   }
  },
  {
   "cell_type": "code",
   "execution_count": null,
   "outputs": [],
   "source": [
    "\n"
   ],
   "metadata": {
    "collapsed": false,
    "pycharm": {
     "name": "#%%\n"
    }
   }
  }
 ],
 "metadata": {
  "kernelspec": {
   "display_name": "Python 3",
   "language": "python",
   "name": "python3"
  },
  "language_info": {
   "codemirror_mode": {
    "name": "ipython",
    "version": 2
   },
   "file_extension": ".py",
   "mimetype": "text/x-python",
   "name": "python",
   "nbconvert_exporter": "python",
   "pygments_lexer": "ipython2",
   "version": "2.7.6"
  }
 },
 "nbformat": 4,
 "nbformat_minor": 0
}